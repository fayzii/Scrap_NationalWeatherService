{
  "nbformat": 4,
  "nbformat_minor": 0,
  "metadata": {
    "colab": {
      "name": "Scrap_NationalWeatherService.ipynb",
      "version": "0.3.2",
      "provenance": [],
      "collapsed_sections": [],
      "include_colab_link": true
    },
    "kernelspec": {
      "name": "python3",
      "display_name": "Python 3"
    }
  },
  "cells": [
    {
      "cell_type": "markdown",
      "metadata": {
        "id": "view-in-github",
        "colab_type": "text"
      },
      "source": [
        "[View in Colaboratory](https://colab.research.google.com/github/fayzii/Scrap_NationalWeatherService/blob/master/Scrap_NationalWeatherService.ipynb)"
      ]
    },
    {
      "metadata": {
        "id": "SADAQkBr54uW",
        "colab_type": "code",
        "colab": {}
      },
      "cell_type": "code",
      "source": [
        "import requests\n",
        "from bs4 import BeautifulSoup"
      ],
      "execution_count": 0,
      "outputs": []
    },
    {
      "metadata": {
        "id": "INXEs-6s6Esx",
        "colab_type": "code",
        "colab": {
          "base_uri": "https://localhost:8080/",
          "height": 309
        },
        "outputId": "cca00c37-c163-4f0d-f892-2a5daeac9caf"
      },
      "cell_type": "code",
      "source": [
        "page = requests.get(\"http://forecast.weather.gov/MapClick.php?lat=37.7772&lon=-122.4168\")\n",
        "soup = BeautifulSoup(page.content, 'html.parser')\n",
        "seven_day = soup.find(id=\"seven-day-forecast\")\n",
        "forecast_items = seven_day.find_all(class_=\"tombstone-container\")\n",
        "tonight = forecast_items[0]\n",
        "print(tonight.prettify())"
      ],
      "execution_count": 2,
      "outputs": [
        {
          "output_type": "stream",
          "text": [
            "<div class=\"tombstone-container\">\n",
            " <p class=\"period-name\">\n",
            "  Overnight\n",
            "  <br/>\n",
            "  <br/>\n",
            " </p>\n",
            " <p>\n",
            "  <img alt=\"Overnight: Mostly cloudy, with a low around 54. West southwest wind around 11 mph. \" class=\"forecast-icon\" src=\"newimages/medium/nbkn.png\" title=\"Overnight: Mostly cloudy, with a low around 54. West southwest wind around 11 mph. \"/>\n",
            " </p>\n",
            " <p class=\"short-desc\">\n",
            "  Mostly Cloudy\n",
            " </p>\n",
            " <p class=\"temp temp-low\">\n",
            "  Low: 54 °F\n",
            " </p>\n",
            "</div>\n"
          ],
          "name": "stdout"
        }
      ]
    },
    {
      "metadata": {
        "id": "JwIUOk9j6Tvn",
        "colab_type": "code",
        "colab": {
          "base_uri": "https://localhost:8080/",
          "height": 68
        },
        "outputId": "d7221722-0045-4d03-c4c0-5f1b53eb9409"
      },
      "cell_type": "code",
      "source": [
        "period = tonight.find(class_=\"period-name\").get_text()\n",
        "short_desc = tonight.find(class_=\"short-desc\").get_text()\n",
        "temp = tonight.find(class_=\"temp\").get_text()\n",
        "\n",
        "print(period)\n",
        "print(short_desc)\n",
        "print(temp)"
      ],
      "execution_count": 3,
      "outputs": [
        {
          "output_type": "stream",
          "text": [
            "Overnight\n",
            "Mostly Cloudy\n",
            "Low: 54 °F\n"
          ],
          "name": "stdout"
        }
      ]
    },
    {
      "metadata": {
        "id": "8kwTgW4L6XDJ",
        "colab_type": "code",
        "colab": {
          "base_uri": "https://localhost:8080/",
          "height": 34
        },
        "outputId": "183b9a00-0fe4-4969-9284-c2b5abc87237"
      },
      "cell_type": "code",
      "source": [
        "img = tonight.find(\"img\")\n",
        "desc = img['title']\n",
        "\n",
        "print(desc)"
      ],
      "execution_count": 4,
      "outputs": [
        {
          "output_type": "stream",
          "text": [
            "Overnight: Mostly cloudy, with a low around 54. West southwest wind around 11 mph. \n"
          ],
          "name": "stdout"
        }
      ]
    },
    {
      "metadata": {
        "id": "-zoAN5mz6a8L",
        "colab_type": "code",
        "colab": {
          "base_uri": "https://localhost:8080/",
          "height": 170
        },
        "outputId": "5b42525f-4e15-49ea-bd5c-9bae25491a1c"
      },
      "cell_type": "code",
      "source": [
        "period_tags = seven_day.select(\".tombstone-container .period-name\")\n",
        "periods = [pt.get_text() for pt in period_tags]\n",
        "periods"
      ],
      "execution_count": 5,
      "outputs": [
        {
          "output_type": "execute_result",
          "data": {
            "text/plain": [
              "['Overnight',\n",
              " 'Wednesday',\n",
              " 'WednesdayNight',\n",
              " 'Thursday',\n",
              " 'ThursdayNight',\n",
              " 'Friday',\n",
              " 'FridayNight',\n",
              " 'Saturday',\n",
              " 'SaturdayNight']"
            ]
          },
          "metadata": {
            "tags": []
          },
          "execution_count": 5
        }
      ]
    },
    {
      "metadata": {
        "id": "aSrFtYKB6hky",
        "colab_type": "code",
        "colab": {
          "base_uri": "https://localhost:8080/",
          "height": 88
        },
        "outputId": "6127a9fc-af7a-43e4-8201-b1a37f272802"
      },
      "cell_type": "code",
      "source": [
        "short_descs = [sd.get_text() for sd in seven_day.select(\".tombstone-container .short-desc\")]\n",
        "temps = [t.get_text() for t in seven_day.select(\".tombstone-container .temp\")]\n",
        "descs = [d[\"title\"] for d in seven_day.select(\".tombstone-container img\")]\n",
        "\n",
        "print(short_descs)\n",
        "print(temps)\n",
        "print(descs)"
      ],
      "execution_count": 6,
      "outputs": [
        {
          "output_type": "stream",
          "text": [
            "['Mostly Cloudy', 'Mostly Cloudythen Sunnyand Breezy', 'IncreasingClouds andBreezy thenMostly Cloudy', 'Partly Sunnyand Breezy', 'Partly Cloudyand Breezythen MostlyCloudy', 'Mostly Sunny', 'Mostly Cloudy', 'Mostly Sunny', 'Mostly Cloudy']\n",
            "['Low: 54 °F', 'High: 63 °F', 'Low: 54 °F', 'High: 63 °F', 'Low: 54 °F', 'High: 65 °F', 'Low: 55 °F', 'High: 67 °F', 'Low: 54 °F']\n",
            "['Overnight: Mostly cloudy, with a low around 54. West southwest wind around 11 mph. ', 'Wednesday: Cloudy through mid morning, then gradual clearing, with a high near 63. Breezy, with a west southwest wind 11 to 16 mph increasing to 17 to 22 mph in the afternoon. Winds could gust as high as 28 mph. ', 'Wednesday Night: Increasing clouds, with a low around 54. Breezy, with a west southwest wind 16 to 22 mph, with gusts as high as 29 mph. ', 'Thursday: Partly sunny, with a high near 63. Breezy, with a west southwest wind 16 to 24 mph, with gusts as high as 32 mph. ', 'Thursday Night: Mostly cloudy, with a low around 54. Breezy, with a west southwest wind 20 to 25 mph decreasing to 14 to 19 mph in the evening. Winds could gust as high as 32 mph. ', 'Friday: Mostly sunny, with a high near 65.', 'Friday Night: Mostly cloudy, with a low around 55.', 'Saturday: Mostly sunny, with a high near 67.', 'Saturday Night: Mostly cloudy, with a low around 54.']\n"
          ],
          "name": "stdout"
        }
      ]
    },
    {
      "metadata": {
        "id": "AHPoQ_ba6mZ6",
        "colab_type": "code",
        "colab": {
          "base_uri": "https://localhost:8080/",
          "height": 328
        },
        "outputId": "68babf97-8918-4e6b-8a95-0a63ca44b87d"
      },
      "cell_type": "code",
      "source": [
        "import pandas as pd\n",
        "weather = pd.DataFrame({\n",
        "        \"period\": periods, \n",
        "        \"short_desc\": short_descs, \n",
        "        \"temp\": temps, \n",
        "        \"desc\":descs\n",
        "    })\n",
        "weather"
      ],
      "execution_count": 7,
      "outputs": [
        {
          "output_type": "execute_result",
          "data": {
            "text/html": [
              "<div>\n",
              "<style scoped>\n",
              "    .dataframe tbody tr th:only-of-type {\n",
              "        vertical-align: middle;\n",
              "    }\n",
              "\n",
              "    .dataframe tbody tr th {\n",
              "        vertical-align: top;\n",
              "    }\n",
              "\n",
              "    .dataframe thead th {\n",
              "        text-align: right;\n",
              "    }\n",
              "</style>\n",
              "<table border=\"1\" class=\"dataframe\">\n",
              "  <thead>\n",
              "    <tr style=\"text-align: right;\">\n",
              "      <th></th>\n",
              "      <th>desc</th>\n",
              "      <th>period</th>\n",
              "      <th>short_desc</th>\n",
              "      <th>temp</th>\n",
              "    </tr>\n",
              "  </thead>\n",
              "  <tbody>\n",
              "    <tr>\n",
              "      <th>0</th>\n",
              "      <td>Overnight: Mostly cloudy, with a low around 54...</td>\n",
              "      <td>Overnight</td>\n",
              "      <td>Mostly Cloudy</td>\n",
              "      <td>Low: 54 °F</td>\n",
              "    </tr>\n",
              "    <tr>\n",
              "      <th>1</th>\n",
              "      <td>Wednesday: Cloudy through mid morning, then gr...</td>\n",
              "      <td>Wednesday</td>\n",
              "      <td>Mostly Cloudythen Sunnyand Breezy</td>\n",
              "      <td>High: 63 °F</td>\n",
              "    </tr>\n",
              "    <tr>\n",
              "      <th>2</th>\n",
              "      <td>Wednesday Night: Increasing clouds, with a low...</td>\n",
              "      <td>WednesdayNight</td>\n",
              "      <td>IncreasingClouds andBreezy thenMostly Cloudy</td>\n",
              "      <td>Low: 54 °F</td>\n",
              "    </tr>\n",
              "    <tr>\n",
              "      <th>3</th>\n",
              "      <td>Thursday: Partly sunny, with a high near 63. B...</td>\n",
              "      <td>Thursday</td>\n",
              "      <td>Partly Sunnyand Breezy</td>\n",
              "      <td>High: 63 °F</td>\n",
              "    </tr>\n",
              "    <tr>\n",
              "      <th>4</th>\n",
              "      <td>Thursday Night: Mostly cloudy, with a low arou...</td>\n",
              "      <td>ThursdayNight</td>\n",
              "      <td>Partly Cloudyand Breezythen MostlyCloudy</td>\n",
              "      <td>Low: 54 °F</td>\n",
              "    </tr>\n",
              "    <tr>\n",
              "      <th>5</th>\n",
              "      <td>Friday: Mostly sunny, with a high near 65.</td>\n",
              "      <td>Friday</td>\n",
              "      <td>Mostly Sunny</td>\n",
              "      <td>High: 65 °F</td>\n",
              "    </tr>\n",
              "    <tr>\n",
              "      <th>6</th>\n",
              "      <td>Friday Night: Mostly cloudy, with a low around...</td>\n",
              "      <td>FridayNight</td>\n",
              "      <td>Mostly Cloudy</td>\n",
              "      <td>Low: 55 °F</td>\n",
              "    </tr>\n",
              "    <tr>\n",
              "      <th>7</th>\n",
              "      <td>Saturday: Mostly sunny, with a high near 67.</td>\n",
              "      <td>Saturday</td>\n",
              "      <td>Mostly Sunny</td>\n",
              "      <td>High: 67 °F</td>\n",
              "    </tr>\n",
              "    <tr>\n",
              "      <th>8</th>\n",
              "      <td>Saturday Night: Mostly cloudy, with a low arou...</td>\n",
              "      <td>SaturdayNight</td>\n",
              "      <td>Mostly Cloudy</td>\n",
              "      <td>Low: 54 °F</td>\n",
              "    </tr>\n",
              "  </tbody>\n",
              "</table>\n",
              "</div>"
            ],
            "text/plain": [
              "                                                desc          period  \\\n",
              "0  Overnight: Mostly cloudy, with a low around 54...       Overnight   \n",
              "1  Wednesday: Cloudy through mid morning, then gr...       Wednesday   \n",
              "2  Wednesday Night: Increasing clouds, with a low...  WednesdayNight   \n",
              "3  Thursday: Partly sunny, with a high near 63. B...        Thursday   \n",
              "4  Thursday Night: Mostly cloudy, with a low arou...   ThursdayNight   \n",
              "5         Friday: Mostly sunny, with a high near 65.          Friday   \n",
              "6  Friday Night: Mostly cloudy, with a low around...     FridayNight   \n",
              "7       Saturday: Mostly sunny, with a high near 67.        Saturday   \n",
              "8  Saturday Night: Mostly cloudy, with a low arou...   SaturdayNight   \n",
              "\n",
              "                                     short_desc         temp  \n",
              "0                                 Mostly Cloudy   Low: 54 °F  \n",
              "1             Mostly Cloudythen Sunnyand Breezy  High: 63 °F  \n",
              "2  IncreasingClouds andBreezy thenMostly Cloudy   Low: 54 °F  \n",
              "3                        Partly Sunnyand Breezy  High: 63 °F  \n",
              "4      Partly Cloudyand Breezythen MostlyCloudy   Low: 54 °F  \n",
              "5                                  Mostly Sunny  High: 65 °F  \n",
              "6                                 Mostly Cloudy   Low: 55 °F  \n",
              "7                                  Mostly Sunny  High: 67 °F  \n",
              "8                                 Mostly Cloudy   Low: 54 °F  "
            ]
          },
          "metadata": {
            "tags": []
          },
          "execution_count": 7
        }
      ]
    },
    {
      "metadata": {
        "id": "X4TKwzuq6tJx",
        "colab_type": "code",
        "colab": {
          "base_uri": "https://localhost:8080/",
          "height": 187
        },
        "outputId": "a9e8b130-a6c7-4f42-f438-5faee23b5913"
      },
      "cell_type": "code",
      "source": [
        "temp_nums = weather[\"temp\"].str.extract(\"(?P<temp_num>\\d+)\", expand=False)\n",
        "weather[\"temp_num\"] = temp_nums.astype('int')\n",
        "temp_nums"
      ],
      "execution_count": 8,
      "outputs": [
        {
          "output_type": "execute_result",
          "data": {
            "text/plain": [
              "0    54\n",
              "1    63\n",
              "2    54\n",
              "3    63\n",
              "4    54\n",
              "5    65\n",
              "6    55\n",
              "7    67\n",
              "8    54\n",
              "Name: temp_num, dtype: object"
            ]
          },
          "metadata": {
            "tags": []
          },
          "execution_count": 8
        }
      ]
    },
    {
      "metadata": {
        "id": "9fGgALVq67X4",
        "colab_type": "code",
        "colab": {
          "base_uri": "https://localhost:8080/",
          "height": 34
        },
        "outputId": "c6c1dbe6-716c-435f-c677-8830a38d10fc"
      },
      "cell_type": "code",
      "source": [
        "weather[\"temp_num\"].mean()"
      ],
      "execution_count": 9,
      "outputs": [
        {
          "output_type": "execute_result",
          "data": {
            "text/plain": [
              "58.77777777777778"
            ]
          },
          "metadata": {
            "tags": []
          },
          "execution_count": 9
        }
      ]
    },
    {
      "metadata": {
        "id": "S6l7i4k96_9T",
        "colab_type": "code",
        "colab": {
          "base_uri": "https://localhost:8080/",
          "height": 187
        },
        "outputId": "a9f78fda-168b-4d65-c68a-fe30c2a8e3b8"
      },
      "cell_type": "code",
      "source": [
        "is_night = weather[\"temp\"].str.contains(\"Low\")\n",
        "weather[\"is_night\"] = is_night\n",
        "is_night"
      ],
      "execution_count": 10,
      "outputs": [
        {
          "output_type": "execute_result",
          "data": {
            "text/plain": [
              "0     True\n",
              "1    False\n",
              "2     True\n",
              "3    False\n",
              "4     True\n",
              "5    False\n",
              "6     True\n",
              "7    False\n",
              "8     True\n",
              "Name: temp, dtype: bool"
            ]
          },
          "metadata": {
            "tags": []
          },
          "execution_count": 10
        }
      ]
    },
    {
      "metadata": {
        "id": "hYga3zci7FLX",
        "colab_type": "code",
        "colab": {
          "base_uri": "https://localhost:8080/",
          "height": 204
        },
        "outputId": "b536a5e6-ec97-48c9-e0ad-954ebe68fbf5"
      },
      "cell_type": "code",
      "source": [
        "weather[is_night]"
      ],
      "execution_count": 11,
      "outputs": [
        {
          "output_type": "execute_result",
          "data": {
            "text/html": [
              "<div>\n",
              "<style scoped>\n",
              "    .dataframe tbody tr th:only-of-type {\n",
              "        vertical-align: middle;\n",
              "    }\n",
              "\n",
              "    .dataframe tbody tr th {\n",
              "        vertical-align: top;\n",
              "    }\n",
              "\n",
              "    .dataframe thead th {\n",
              "        text-align: right;\n",
              "    }\n",
              "</style>\n",
              "<table border=\"1\" class=\"dataframe\">\n",
              "  <thead>\n",
              "    <tr style=\"text-align: right;\">\n",
              "      <th></th>\n",
              "      <th>desc</th>\n",
              "      <th>period</th>\n",
              "      <th>short_desc</th>\n",
              "      <th>temp</th>\n",
              "      <th>temp_num</th>\n",
              "      <th>is_night</th>\n",
              "    </tr>\n",
              "  </thead>\n",
              "  <tbody>\n",
              "    <tr>\n",
              "      <th>0</th>\n",
              "      <td>Overnight: Mostly cloudy, with a low around 54...</td>\n",
              "      <td>Overnight</td>\n",
              "      <td>Mostly Cloudy</td>\n",
              "      <td>Low: 54 °F</td>\n",
              "      <td>54</td>\n",
              "      <td>True</td>\n",
              "    </tr>\n",
              "    <tr>\n",
              "      <th>2</th>\n",
              "      <td>Wednesday Night: Increasing clouds, with a low...</td>\n",
              "      <td>WednesdayNight</td>\n",
              "      <td>IncreasingClouds andBreezy thenMostly Cloudy</td>\n",
              "      <td>Low: 54 °F</td>\n",
              "      <td>54</td>\n",
              "      <td>True</td>\n",
              "    </tr>\n",
              "    <tr>\n",
              "      <th>4</th>\n",
              "      <td>Thursday Night: Mostly cloudy, with a low arou...</td>\n",
              "      <td>ThursdayNight</td>\n",
              "      <td>Partly Cloudyand Breezythen MostlyCloudy</td>\n",
              "      <td>Low: 54 °F</td>\n",
              "      <td>54</td>\n",
              "      <td>True</td>\n",
              "    </tr>\n",
              "    <tr>\n",
              "      <th>6</th>\n",
              "      <td>Friday Night: Mostly cloudy, with a low around...</td>\n",
              "      <td>FridayNight</td>\n",
              "      <td>Mostly Cloudy</td>\n",
              "      <td>Low: 55 °F</td>\n",
              "      <td>55</td>\n",
              "      <td>True</td>\n",
              "    </tr>\n",
              "    <tr>\n",
              "      <th>8</th>\n",
              "      <td>Saturday Night: Mostly cloudy, with a low arou...</td>\n",
              "      <td>SaturdayNight</td>\n",
              "      <td>Mostly Cloudy</td>\n",
              "      <td>Low: 54 °F</td>\n",
              "      <td>54</td>\n",
              "      <td>True</td>\n",
              "    </tr>\n",
              "  </tbody>\n",
              "</table>\n",
              "</div>"
            ],
            "text/plain": [
              "                                                desc          period  \\\n",
              "0  Overnight: Mostly cloudy, with a low around 54...       Overnight   \n",
              "2  Wednesday Night: Increasing clouds, with a low...  WednesdayNight   \n",
              "4  Thursday Night: Mostly cloudy, with a low arou...   ThursdayNight   \n",
              "6  Friday Night: Mostly cloudy, with a low around...     FridayNight   \n",
              "8  Saturday Night: Mostly cloudy, with a low arou...   SaturdayNight   \n",
              "\n",
              "                                     short_desc        temp  temp_num  \\\n",
              "0                                 Mostly Cloudy  Low: 54 °F        54   \n",
              "2  IncreasingClouds andBreezy thenMostly Cloudy  Low: 54 °F        54   \n",
              "4      Partly Cloudyand Breezythen MostlyCloudy  Low: 54 °F        54   \n",
              "6                                 Mostly Cloudy  Low: 55 °F        55   \n",
              "8                                 Mostly Cloudy  Low: 54 °F        54   \n",
              "\n",
              "   is_night  \n",
              "0      True  \n",
              "2      True  \n",
              "4      True  \n",
              "6      True  \n",
              "8      True  "
            ]
          },
          "metadata": {
            "tags": []
          },
          "execution_count": 11
        }
      ]
    }
  ]
}